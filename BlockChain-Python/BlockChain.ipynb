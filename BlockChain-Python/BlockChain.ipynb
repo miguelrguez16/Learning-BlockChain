{
  "nbformat": 4,
  "nbformat_minor": 0,
  "metadata": {
    "colab": {
      "provenance": []
    },
    "kernelspec": {
      "name": "python3",
      "display_name": "Python 3"
    },
    "language_info": {
      "name": "python"
    }
  },
  "cells": [
    {
      "cell_type": "markdown",
      "source": [
        "Librerias necesarias\n"
      ],
      "metadata": {
        "id": "UvfMQcnwTfMy"
      }
    },
    {
      "cell_type": "code",
      "source": [
        "!pip install flask==0.12.2"
      ],
      "metadata": {
        "colab": {
          "base_uri": "https://localhost:8080/"
        },
        "id": "UWceQcKlTjLp",
        "outputId": "52064be7-e6b5-4529-fc1a-6bdd47bbe61b"
      },
      "execution_count": 9,
      "outputs": [
        {
          "output_type": "stream",
          "name": "stdout",
          "text": [
            "Looking in indexes: https://pypi.org/simple, https://us-python.pkg.dev/colab-wheels/public/simple/\n",
            "Requirement already satisfied: flask==0.12.2 in /usr/local/lib/python3.8/dist-packages (0.12.2)\n",
            "Requirement already satisfied: itsdangerous>=0.21 in /usr/local/lib/python3.8/dist-packages (from flask==0.12.2) (1.1.0)\n",
            "Requirement already satisfied: click>=2.0 in /usr/local/lib/python3.8/dist-packages (from flask==0.12.2) (7.1.2)\n",
            "Requirement already satisfied: Werkzeug>=0.7 in /usr/local/lib/python3.8/dist-packages (from flask==0.12.2) (1.0.1)\n",
            "Requirement already satisfied: Jinja2>=2.4 in /usr/local/lib/python3.8/dist-packages (from flask==0.12.2) (2.11.3)\n",
            "Requirement already satisfied: MarkupSafe>=0.23 in /usr/local/lib/python3.8/dist-packages (from Jinja2>=2.4->flask==0.12.2) (2.0.1)\n"
          ]
        }
      ]
    },
    {
      "cell_type": "code",
      "source": [
        "!pip install flask-ngrok==0.0.25"
      ],
      "metadata": {
        "colab": {
          "base_uri": "https://localhost:8080/"
        },
        "id": "bqD8RACeT0E0",
        "outputId": "c4bf8466-e0a0-4ae3-c319-a6b79db3ddf2"
      },
      "execution_count": 10,
      "outputs": [
        {
          "output_type": "stream",
          "name": "stdout",
          "text": [
            "Looking in indexes: https://pypi.org/simple, https://us-python.pkg.dev/colab-wheels/public/simple/\n",
            "Requirement already satisfied: flask-ngrok==0.0.25 in /usr/local/lib/python3.8/dist-packages (0.0.25)\n",
            "Requirement already satisfied: Flask>=0.8 in /usr/local/lib/python3.8/dist-packages (from flask-ngrok==0.0.25) (0.12.2)\n",
            "Requirement already satisfied: requests in /usr/local/lib/python3.8/dist-packages (from flask-ngrok==0.0.25) (2.25.1)\n",
            "Requirement already satisfied: itsdangerous>=0.21 in /usr/local/lib/python3.8/dist-packages (from Flask>=0.8->flask-ngrok==0.0.25) (1.1.0)\n",
            "Requirement already satisfied: click>=2.0 in /usr/local/lib/python3.8/dist-packages (from Flask>=0.8->flask-ngrok==0.0.25) (7.1.2)\n",
            "Requirement already satisfied: Jinja2>=2.4 in /usr/local/lib/python3.8/dist-packages (from Flask>=0.8->flask-ngrok==0.0.25) (2.11.3)\n",
            "Requirement already satisfied: Werkzeug>=0.7 in /usr/local/lib/python3.8/dist-packages (from Flask>=0.8->flask-ngrok==0.0.25) (1.0.1)\n",
            "Requirement already satisfied: urllib3<1.27,>=1.21.1 in /usr/local/lib/python3.8/dist-packages (from requests->flask-ngrok==0.0.25) (1.24.3)\n",
            "Requirement already satisfied: certifi>=2017.4.17 in /usr/local/lib/python3.8/dist-packages (from requests->flask-ngrok==0.0.25) (2022.12.7)\n",
            "Requirement already satisfied: idna<3,>=2.5 in /usr/local/lib/python3.8/dist-packages (from requests->flask-ngrok==0.0.25) (2.10)\n",
            "Requirement already satisfied: chardet<5,>=3.0.2 in /usr/local/lib/python3.8/dist-packages (from requests->flask-ngrok==0.0.25) (4.0.0)\n",
            "Requirement already satisfied: MarkupSafe>=0.23 in /usr/local/lib/python3.8/dist-packages (from Jinja2>=2.4->Flask>=0.8->flask-ngrok==0.0.25) (2.0.1)\n"
          ]
        }
      ]
    },
    {
      "cell_type": "markdown",
      "source": [
        "# BLockChain con Python\n"
      ],
      "metadata": {
        "id": "KJvjnOzLUEbD"
      }
    },
    {
      "cell_type": "code",
      "source": [
        "# Importacion de las librerias\n",
        "import datetime\n",
        "import hashlib\n",
        "import json\n",
        "from flask import Flask, jsonify\n",
        "from flask_ngrok import run_with_ngrok"
      ],
      "metadata": {
        "id": "pUEYWqUTUJ75"
      },
      "execution_count": 11,
      "outputs": []
    },
    {
      "cell_type": "markdown",
      "source": [
        "Creación de una clase Blockcain que contega todos los métodos esenciales:\n",
        "\n",
        "\n",
        "*   Creación de un nuevo bloque\n",
        "*   Obtención del hash del bloque\n",
        "*   Protocolo de consenso Pow\n",
        "*   Genereación del hash de un bloque\n",
        "*   Verificacion de la validez de la BlockChain\n",
        "\n",
        "\n",
        "\n",
        "\n"
      ],
      "metadata": {
        "id": "chSg8_rPUrAu"
      }
    },
    {
      "cell_type": "code",
      "source": [
        "from typing_extensions import NoReturn\n",
        "# Creación de la clase BlockChain\n",
        "class Blockchain:\n",
        "  def _init_(self):\n",
        "    \"\"\"Constructor de la clase Blockchain\"\"\"\n",
        "    self.chain = []\n",
        "    self.create_block(proof=1, previous_hash= '0')\n",
        "\n",
        "  def create_block(self, proof, previous_hash):\n",
        "    \"\"\"Creacion de un nuevo bloque\n",
        "      Argumentos:\n",
        "      - proof: Hash del bloque actual\n",
        "      - previous_hash: \n",
        "      Returns:\n",
        "      - block: Nuevo bloque creado\n",
        "    \"\"\"\n",
        "    block = {\n",
        "        'index'         :len(self.chain)+1,\n",
        "        'timestamp'     :str(datetime.datetime.now()),\n",
        "        'proof'         :proof,\n",
        "        'previous_hash' : previous_hash\n",
        "    }\n",
        "    self.chain.append(block)\n",
        "    return block\n",
        "  \n",
        "  def get_previous_block(self):\n",
        "    \"\"\" Obtencion del bloque previo de la blockChain   \"\"\"\n",
        "    return self.chain[-1]\n",
        "\n",
        "\n",
        "def proof_of_work(self, previous_hash):\n",
        "  \"\"\" Protocolo de consenso\n",
        "    Argumentos:\n",
        "      - previous_hash: NOUNCE del bloque previo\n",
        "      Returns:\n",
        "      - new_proof: Devolución del nuevo nounce obtenido con Pow\n",
        "  \"\"\"\n",
        "  new_proof = 1\n",
        "  check_proof = False\n",
        "  while check_proof is False:\n",
        "    # Se intenta que los hashes no coincidan\n",
        "    hash_operation = hashlib.sha256(\n",
        "        str(\n",
        "            new_proof**2 - previous_hash**2\n",
        "        ).encode()\n",
        "    ).hexdigest()\n",
        "    if hash_operation[:4] == '0000':\n",
        "      check_proof=True\n",
        "    else:\n",
        "        new_proof += 1\n",
        "\n",
        "  return new_proof\n",
        "\n",
        "def hash(self, block):\n",
        "  \"\"\"\n",
        "    Calculo del hash de un bloque.\n",
        "    Arguments:\n",
        "    - Block: identifica el bloque de la blockchain\n",
        "\n",
        "    Returns:\n",
        "    - hash del bloque \n",
        "  \"\"\"\n",
        "  encode_block = json.dump(block, sort_key = True).encode() # convert BLOCK\n",
        "  hash_block = hashlib.sha256(encode_block).hexdigest()\n",
        "  return hash_block\n",
        "\n",
        "def is_chain_valid(self,chain):\n",
        "  \"\"\"\n",
        "    Determina si la Blockchain es válida\n",
        "\n",
        "    Arguments:\n",
        "    -\n",
        "  \"\"\"\n",
        "  previous_block = chain[0]\n",
        "  block_index = 1\n",
        "  while block_index < len(chain):\n",
        "      block = chain[block_index]\n",
        "      if block['previous_hash'] != self.hash(previous_block):\n",
        "          return False\n",
        "      previous_proof = previous_block['proof']\n",
        "      proof = block['proof']\n",
        "      hash_operation = hashlib.sha256(str(proof**2 - previous_proof**2).encode()).hexdigest()\n",
        "      if hash_operation[:4] != '0000':\n",
        "          return False\n",
        "      previous_block = block\n",
        "      block_index += 1\n",
        "  \n",
        "  return True\n"
      ],
      "metadata": {
        "id": "Mu9niTK0UoA7"
      },
      "execution_count": 12,
      "outputs": []
    },
    {
      "cell_type": "markdown",
      "source": [
        "Aplicación Web accesible vía en modo de REST API. Mediante llamadas HTTP al REST API podemos establecer uan comunicación con el uso del módulo de Flask. \n",
        "\n",
        "Llamadas a realizar vía REST API:\n",
        "* Minar bloques: **mine_block()**\n",
        "* Obtención de la Blockchain: **get_chain()**\n",
        "* Comprobar estado de la Blockchain: **is_valid()**"
      ],
      "metadata": {
        "id": "gkOjQMuHqxMh"
      }
    },
    {
      "cell_type": "code",
      "source": [
        "# Crear una aplicación web\n",
        "# Ejecución de la app con Notebook\n",
        "app = Flask(__name__)\n",
        "run_with_ngrok(app)  \n",
        "\n",
        "# Si se obtiene un error 500, actualizar flask y ejecutar la siguiente línea\n",
        "app.config['JSONIFY_PRETTYPRINT_REGULAR'] = False\n",
        "\n",
        "# Creación de la Blockchain\n",
        "blockchain = Blockchain()\n",
        "\n",
        "\n",
        "@app.route('/mine_block', methods=['GET'])\n",
        "def mine_block():\n",
        "  \"\"\" Minado de un nuevo bloque \"\"\"\n",
        "\n",
        "  previous_block  = blockchain.get_previous_block() #ultimo bloque de la cadena\n",
        "  previous_proof  = previous_block['proof'] # nonce del bloque previo\n",
        "  proof           = blockchain.proof_of_work(previous_proof) #nuevo nonce\n",
        "  previous_hash   = blockchain.hash(previous_block) # hash previo\n",
        "  block           = blockchain.create_block(proof, previous_hash)\n",
        "  response = {'message'       : '¡Enhorabuena, has minado un nuevo bloque!', \n",
        "              'index'         : block['index'],\n",
        "              'timestamp'     : block['timestamp'],\n",
        "              'proof'         : block['proof'],\n",
        "              'previous_hash' : block['previous_hash']}\n",
        "  return jsonify(response), 200\n",
        "\n",
        "@app.route('/get_chain', methods=['GET'])\n",
        "def get_chain():\n",
        "  \"\"\" Obtención de la Blockchain \"\"\"\n",
        "  response = {'chain'   : blockchain.chain, \n",
        "              'length'  : len(blockchain.chain)}\n",
        "  return jsonify(response), 200\n",
        "\n",
        "@app.route('/is_valid', methods = ['GET'])\n",
        "def is_valid():\n",
        "  \"\"\" Comprobación si la Blockchain es válida \"\"\"\n",
        "\n",
        "  is_valid = blockchain.is_chain_valid(blockchain.chain)\n",
        "  if is_valid:\n",
        "      response = {'message' : '¡La cadena de bloques es válida!'}\n",
        "  else:\n",
        "      response = {'message' : '¡La cadena de bloques NO es válida!'}\n",
        "  return jsonify(response), 200"
      ],
      "metadata": {
        "id": "ymTlPYSqZIQB"
      },
      "execution_count": 13,
      "outputs": []
    },
    {
      "cell_type": "code",
      "source": [
        "# Ejecución de la app con Google Colab\n",
        "app.run()\n",
        "\n",
        "# Ejecución externa a Google colab\n",
        "# app.run(host = '0.0.0.0', port = 5000)"
      ],
      "metadata": {
        "colab": {
          "base_uri": "https://localhost:8080/"
        },
        "id": "PWgSwClGrSFw",
        "outputId": "3bab980e-4d07-41a3-8360-0fa6c5d0d593"
      },
      "execution_count": 15,
      "outputs": [
        {
          "output_type": "stream",
          "name": "stderr",
          "text": [
            "INFO:werkzeug: * Running on http://127.0.0.1:5000/ (Press CTRL+C to quit)\n"
          ]
        },
        {
          "output_type": "stream",
          "name": "stdout",
          "text": [
            " * Running on http://cb59-34-125-184-217.ngrok.io\n",
            " * Traffic stats available on http://127.0.0.1:4040\n"
          ]
        },
        {
          "output_type": "stream",
          "name": "stderr",
          "text": [
            "INFO:werkzeug:127.0.0.1 - - [24/Jan/2023 17:11:19] \"\u001b[33mGET / HTTP/1.1\u001b[0m\" 404 -\n",
            "INFO:werkzeug:127.0.0.1 - - [24/Jan/2023 17:11:20] \"\u001b[33mGET /favicon.ico HTTP/1.1\u001b[0m\" 404 -\n"
          ]
        }
      ]
    }
  ]
}